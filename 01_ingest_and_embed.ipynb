{
 "cells": [
  {
   "cell_type": "markdown",
   "id": "b42f6884",
   "metadata": {},
   "source": [
    "# Ingest and Embed Documents for RAG using LangChain + FAISS"
   ]
  },
  {
   "cell_type": "code",
   "execution_count": null,
   "id": "19d2abc2",
   "metadata": {},
   "outputs": [],
   "source": [
    "!pip install langchain pypdf faiss-cpu sentence-transformers"
   ]
  },
  {
   "cell_type": "code",
   "execution_count": null,
   "id": "42997376",
   "metadata": {},
   "outputs": [],
   "source": [
    "from langchain.document_loaders import PyPDFLoader\n",
    "loader = PyPDFLoader(\"sample.pdf\")\n",
    "docs = loader.load_and_split()"
   ]
  },
  {
   "cell_type": "code",
   "execution_count": null,
   "id": "7ff6d8ee",
   "metadata": {},
   "outputs": [],
   "source": [
    "from langchain.embeddings import HuggingFaceEmbeddings\n",
    "from langchain.vectorstores import FAISS\n",
    "embedding_model = HuggingFaceEmbeddings(model_name=\"all-MiniLM-L6-v2\")\n",
    "db = FAISS.from_documents(docs, embedding_model)"
   ]
  },
  {
   "cell_type": "code",
   "execution_count": null,
   "id": "ccf73be9",
   "metadata": {},
   "outputs": [],
   "source": [
    "import pickle\n",
    "with open(\"vector_index.pkl\", \"wb\") as f:\n",
    "    pickle.dump(db, f)\n",
    "\n",
    "print(\"✅ Index saved as vector_index.pkl\")"
   ]
  }
 ],
 "metadata": {
  "language_info": {
   "name": "python"
  }
 },
 "nbformat": 4,
 "nbformat_minor": 5
}
